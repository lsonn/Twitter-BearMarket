{
 "cells": [
  {
   "cell_type": "markdown",
   "id": "d448e4b8",
   "metadata": {},
   "source": [
    "# Cryptocurrencies Community Engagement Analysis\n",
    "\n",
    "The goal of this notebook is to analyse the twitter activity of the crypto ecosystem on selected cryptocurrencies to gain insights on the community engagement"
   ]
  },
  {
   "cell_type": "markdown",
   "id": "f7ee35c2",
   "metadata": {},
   "source": [
    "# About the dataset\n",
    "\n",
    "Let's understand what is the data and what it looks like."
   ]
  },
  {
   "cell_type": "code",
   "execution_count": 1,
   "id": "206d9c87",
   "metadata": {},
   "outputs": [
    {
     "name": "stdout",
     "output_type": "stream",
     "text": [
      "                            tweetDate  \\\n",
      "0      Wed May 11 01:38:14 +0000 2022   \n",
      "1      Thu Apr 28 05:51:55 +0000 2022   \n",
      "2      Tue May 10 16:36:13 +0000 2022   \n",
      "3      Wed May 11 08:21:35 +0000 2022   \n",
      "4      Tue May 10 21:32:03 +0000 2022   \n",
      "...                               ...   \n",
      "11336  Sat May 14 14:19:57 +0000 2022   \n",
      "11337  Sat May 14 19:30:36 +0000 2022   \n",
      "11338  Sat May 14 19:51:22 +0000 2022   \n",
      "11339  Sun May 15 01:15:56 +0000 2022   \n",
      "11340  Sat May 14 19:29:46 +0000 2022   \n",
      "\n",
      "                                                 content  \\\n",
      "0      🎉 GIVEAWAY 🎉\\n\\nWe Partnered Up with @Fightbac...   \n",
      "1      Elon yapmış yapacağını yine. Favlayınca tesla ...   \n",
      "2      #BITCOIN ARE YOU READY FOR THE HUGE PUMP ????\\...   \n",
      "3      Same month last year\\n\\n#btc #cryptocrash #Bit...   \n",
      "4      Enjoy the dump boys \\nWhile am helping @crypto...   \n",
      "...                                                  ...   \n",
      "11336  Time for a #weekend #NFTGiveaway - I will be g...   \n",
      "11337  ✏️  Endless prospects, endless Business $SHIDO...   \n",
      "11338  🔥Staking pool is on fire🔥 only on @CronosBay \\...   \n",
      "11339  @RGVaerialphotos @RealShibaDoge @Shib_nobi @Sh...   \n",
      "11340  ✏️   Epitomize yourself everywhere by $SHIDO\\n...   \n",
      "\n",
      "                           twitterProfile  \\\n",
      "0          https://twitter.com/CitrusWGMI   \n",
      "1          https://twitter.com/CemErguler   \n",
      "2      https://twitter.com/AurelienOhayon   \n",
      "3       https://twitter.com/kennedybrand1   \n",
      "4            https://twitter.com/bull_bnb   \n",
      "...                                   ...   \n",
      "11336  https://twitter.com/cryptopeerani1   \n",
      "11337    https://twitter.com/venusha_MIMA   \n",
      "11338  https://twitter.com/Lil_Anubis_nft   \n",
      "11339   https://twitter.com/THExALPHAxADA   \n",
      "11340    https://twitter.com/venusha_MIMA   \n",
      "\n",
      "                                                tweetUrl  \\\n",
      "0      https://twitter.com/CitrusWGMI/status/15242021...   \n",
      "1      https://twitter.com/CemErguler/status/15195549...   \n",
      "2      https://twitter.com/AurelienOhayon/status/1524...   \n",
      "3      https://twitter.com/kennedybrand1/status/15243...   \n",
      "4      https://twitter.com/bull_bnb/status/1524140234...   \n",
      "...                                                  ...   \n",
      "11336  https://twitter.com/cryptopeerani1/status/1525...   \n",
      "11337  https://twitter.com/venusha_MIMA/status/152555...   \n",
      "11338  https://twitter.com/Lil_Anubis_nft/status/1525...   \n",
      "11339  https://twitter.com/THExALPHAxADA/status/15256...   \n",
      "11340  https://twitter.com/venusha_MIMA/status/152555...   \n",
      "\n",
      "                      timestamp    query  \n",
      "0      2022-05-11T12:20:21.508Z     #BTC  \n",
      "1      2022-05-11T12:20:21.508Z     #BTC  \n",
      "2      2022-05-11T12:20:21.508Z     #BTC  \n",
      "3      2022-05-11T12:20:21.508Z     #BTC  \n",
      "4      2022-05-11T12:20:21.508Z     #BTC  \n",
      "...                         ...      ...  \n",
      "11336  2022-05-15T02:09:57.474Z  #crypto  \n",
      "11337  2022-05-15T02:09:57.474Z  #crypto  \n",
      "11338  2022-05-15T02:09:57.474Z  #crypto  \n",
      "11339  2022-05-15T02:09:57.474Z  #crypto  \n",
      "11340  2022-05-15T02:09:57.474Z  #crypto  \n",
      "\n",
      "[11341 rows x 6 columns]\n"
     ]
    }
   ],
   "source": [
    "import pandas as pd\n",
    "#Read in the tweets dataset\n",
    "tweets = pd.read_csv(\"Dataset/Twitter_tophashtags_crypto.csv\")\n",
    "print(tweets)"
   ]
  },
  {
   "cell_type": "code",
   "execution_count": 2,
   "id": "87da488e",
   "metadata": {},
   "outputs": [
    {
     "name": "stdout",
     "output_type": "stream",
     "text": [
      "💥BREAKING: El Salvador just bought $15.4m #Bitcoin \n",
      "Another 500 #BTC off the market!🙌\n"
     ]
    }
   ],
   "source": [
    "#Example of a tweet\n",
    "print(tweets[\"content\"].iloc[20])"
   ]
  },
  {
   "cell_type": "code",
   "execution_count": 3,
   "id": "90db208e",
   "metadata": {},
   "outputs": [
    {
     "name": "stdout",
     "output_type": "stream",
     "text": [
      "Just picked up these cuties! @SleepySachis NFTs #StaySleepy #SleepySols #Sol #Solana #SolanaNFT https://t.co/spp22gIy6M\n"
     ]
    }
   ],
   "source": [
    "#Example of a tweet related to a specific hashtag\n",
    "print(tweets[tweets[\"query\"] == \"#SOL\"]['content'].iloc[50])"
   ]
  },
  {
   "cell_type": "code",
   "execution_count": 4,
   "id": "e07960a8",
   "metadata": {},
   "outputs": [
    {
     "name": "stdout",
     "output_type": "stream",
     "text": [
      "AxesSubplot(0.125,0.125;0.775x0.755)\n"
     ]
    },
    {
     "data": {
      "image/png": "[encoded data removed]",
      "text/plain": [
       "<Figure size 432x288 with 1 Axes>"
      ]
     },
     "metadata": {
      "needs_background": "light"
     },
     "output_type": "display_data"
    }
   ],
   "source": [
    "#What are the most commonly used hashtags in crypto from the pre-selected set?\n",
    "value_counts = tweets[\"query\"].value_counts().plot(kind='barh')\n",
    "print(value_counts)"
   ]
  },
  {
   "cell_type": "markdown",
   "id": "d6edc833",
   "metadata": {},
   "source": [
    "# Data cleaning\n",
    "Before diving into the analysis, we should format the dates of the dataset, based on the tweetdate or timestamp columns, in order to do time series analysis.\n",
    "\n",
    "**Methods used**: Date format, outliers cleaning"
   ]
  },
  {
   "cell_type": "code",
   "execution_count": 5,
   "id": "c13d8002",
   "metadata": {},
   "outputs": [
    {
     "name": "stdout",
     "output_type": "stream",
     "text": [
      "                  tweetDate  \\\n",
      "0 2022-05-11 01:38:14+00:00   \n",
      "1 2022-04-28 05:51:55+00:00   \n",
      "2 2022-05-10 16:36:13+00:00   \n",
      "3 2022-05-11 08:21:35+00:00   \n",
      "4 2022-05-10 21:32:03+00:00   \n",
      "5 2022-05-09 14:09:00+00:00   \n",
      "6 2022-05-10 20:23:56+00:00   \n",
      "7 2022-05-09 09:56:56+00:00   \n",
      "8 2022-05-10 00:33:04+00:00   \n",
      "9 2022-05-09 19:32:42+00:00   \n",
      "\n",
      "                                             content  \\\n",
      "0  🎉 GIVEAWAY 🎉\\n\\nWe Partnered Up with @Fightbac...   \n",
      "1  Elon yapmış yapacağını yine. Favlayınca tesla ...   \n",
      "2  #BITCOIN ARE YOU READY FOR THE HUGE PUMP ????\\...   \n",
      "3  Same month last year\\n\\n#btc #cryptocrash #Bit...   \n",
      "4  Enjoy the dump boys \\nWhile am helping @crypto...   \n",
      "5  Today's lunch.\\nThanks #BTC https://t.co/qf1S3...   \n",
      "6  #BITCOIN THE 4TH GREAT HISTORICAL CYCLE BEGINS...   \n",
      "7  Bunu kim çizdi bilmiyorum ama bayıldım😂\\n\\n#Bi...   \n",
      "8  You need to LEARN rapidly! #BTC\\n\\nIt's a Conf...   \n",
      "9  Que dice #Bukele ?? 😁😁 #bitcoin #BTC #cryptotr...   \n",
      "\n",
      "                       twitterProfile  \\\n",
      "0      https://twitter.com/CitrusWGMI   \n",
      "1      https://twitter.com/CemErguler   \n",
      "2  https://twitter.com/AurelienOhayon   \n",
      "3   https://twitter.com/kennedybrand1   \n",
      "4        https://twitter.com/bull_bnb   \n",
      "5        https://twitter.com/devchart   \n",
      "6  https://twitter.com/AurelienOhayon   \n",
      "7   https://twitter.com/EkinAlbayrak9   \n",
      "8      https://twitter.com/SC75351560   \n",
      "9      https://twitter.com/george28lw   \n",
      "\n",
      "                                            tweetUrl  \\\n",
      "0  https://twitter.com/CitrusWGMI/status/15242021...   \n",
      "1  https://twitter.com/CemErguler/status/15195549...   \n",
      "2  https://twitter.com/AurelienOhayon/status/1524...   \n",
      "3  https://twitter.com/kennedybrand1/status/15243...   \n",
      "4  https://twitter.com/bull_bnb/status/1524140234...   \n",
      "5  https://twitter.com/devchart/status/1523666347...   \n",
      "6  https://twitter.com/AurelienOhayon/status/1524...   \n",
      "7  https://twitter.com/EkinAlbayrak9/status/15236...   \n",
      "8  https://twitter.com/SC75351560/status/15238234...   \n",
      "9  https://twitter.com/george28lw/status/15237478...   \n",
      "\n",
      "                  timestamp query  \n",
      "0  2022-05-11T12:20:21.508Z  #BTC  \n",
      "1  2022-05-11T12:20:21.508Z  #BTC  \n",
      "2  2022-05-11T12:20:21.508Z  #BTC  \n",
      "3  2022-05-11T12:20:21.508Z  #BTC  \n",
      "4  2022-05-11T12:20:21.508Z  #BTC  \n",
      "5  2022-05-11T12:20:21.508Z  #BTC  \n",
      "6  2022-05-11T12:20:21.508Z  #BTC  \n",
      "7  2022-05-11T12:20:21.508Z  #BTC  \n",
      "8  2022-05-11T12:20:21.508Z  #BTC  \n",
      "9  2022-05-11T12:20:21.508Z  #BTC  \n"
     ]
    }
   ],
   "source": [
    "#Format date and see the result on first 10 tweets in the dataset\n",
    "tweets[\"tweetDate\"] = pd.to_datetime(tweets[\"tweetDate\"])\n",
    "print(tweets.head(10))"
   ]
  },
  {
   "cell_type": "code",
   "execution_count": 6,
   "id": "247ada16",
   "metadata": {},
   "outputs": [
    {
     "name": "stdout",
     "output_type": "stream",
     "text": [
      "2018-11-25 01:39:01+00:00    1\n",
      "2021-03-21 00:51:57+00:00    1\n",
      "2021-11-19 15:57:35+00:00    1\n",
      "2022-01-05 01:17:00+00:00    1\n",
      "2022-01-24 00:02:37+00:00    1\n",
      "                            ..\n",
      "2022-05-15 01:38:57+00:00    1\n",
      "2022-05-15 01:41:58+00:00    1\n",
      "2022-05-15 01:53:15+00:00    1\n",
      "2022-05-15 02:04:07+00:00    1\n",
      "2022-05-15 02:09:48+00:00    1\n",
      "Name: tweetDate, Length: 11120, dtype: int64\n"
     ]
    }
   ],
   "source": [
    "#Sorting tweets per chronological order\n",
    "data_hour = tweets[\"tweetDate\"].value_counts()\n",
    "data_hour = data_hour.sort_index()\n",
    "print(data_hour)"
   ]
  },
  {
   "cell_type": "code",
   "execution_count": 7,
   "id": "4df1eaa0",
   "metadata": {},
   "outputs": [
    {
     "data": {
      "image/png": "[encoded data removed]",
      "text/plain": [
       "<Figure size 432x288 with 1 Axes>"
      ]
     },
     "metadata": {
      "needs_background": "light"
     },
     "output_type": "display_data"
    }
   ],
   "source": [
    "import matplotlib.pyplot as plt\n",
    "#Plotting the data in a graph\n",
    "data_hour.plot(kind=\"line\")\n",
    "plt.show()"
   ]
  },
  {
   "cell_type": "markdown",
   "id": "2dc49199",
   "metadata": {},
   "source": [
    "By sorting the data by dates in a chronological order, we can see there are clear **outliers** with the first tweet that dates from Nov-2018.\n",
    "\n",
    "This is what highlights the chart above, most data is centered around the last few weeks, it is therefore irrelevant to keep the outliers from the past. \n",
    "We should remove them and focus the analysis on the last few days."
   ]
  },
  {
   "cell_type": "code",
   "execution_count": 8,
   "id": "a140345f",
   "metadata": {},
   "outputs": [
    {
     "data": {
      "image/png": "[encoded data removed]",
      "text/plain": [
       "<Figure size 432x288 with 1 Axes>"
      ]
     },
     "metadata": {
      "needs_background": "light"
     },
     "output_type": "display_data"
    }
   ],
   "source": [
    "#Narrowing down the period and filtering outliers\n",
    "data_filter = data_hour.iloc[1000:]\n",
    "data_filter.plot(kind=\"line\")\n",
    "plt.show()"
   ]
  },
  {
   "cell_type": "code",
   "execution_count": 9,
   "id": "d021f7fb",
   "metadata": {},
   "outputs": [
    {
     "name": "stdout",
     "output_type": "stream",
     "text": [
      "2022-05-06     144\n",
      "2022-05-07     130\n",
      "2022-05-08     213\n",
      "2022-05-09     399\n",
      "2022-05-10     780\n",
      "2022-05-11    3207\n",
      "2022-05-12    2697\n",
      "2022-05-13    2169\n",
      "2022-05-14    1158\n",
      "2022-05-15      13\n",
      "Name: tweetDate, dtype: int64\n"
     ]
    }
   ],
   "source": [
    "#count the number of tweets per date\n",
    "data_hour = tweets[\"tweetDate\"].dt.date.value_counts()\n",
    "data_hour = data_hour.sort_index().iloc[30:]\n",
    "print(data_hour)"
   ]
  },
  {
   "cell_type": "markdown",
   "id": "2caacc20",
   "metadata": {},
   "source": [
    "# Deep Dive Analysis\n",
    "The objective will be to assess the tweet intensity and community engagement behind each crypto asset and derive potential investment signals"
   ]
  },
  {
   "cell_type": "code",
   "execution_count": 10,
   "id": "9aa841dc",
   "metadata": {},
   "outputs": [
    {
     "name": "stdout",
     "output_type": "stream",
     "text": [
      "             Date  Hashtag\n",
      "0      2022-05-11     #BTC\n",
      "1      2022-04-28     #BTC\n",
      "2      2022-05-10     #BTC\n",
      "3      2022-05-11     #BTC\n",
      "4      2022-05-10     #BTC\n",
      "...           ...      ...\n",
      "11336  2022-05-14  #crypto\n",
      "11337  2022-05-14  #crypto\n",
      "11338  2022-05-14  #crypto\n",
      "11339  2022-05-15  #crypto\n",
      "11340  2022-05-14  #crypto\n",
      "\n",
      "[11341 rows x 2 columns]\n"
     ]
    }
   ],
   "source": [
    "#Regroup the data around dates and hashtags\n",
    "date = tweets[\"tweetDate\"].dt.date\n",
    "hashtag = tweets['query']\n",
    "weekly_data = pd.concat([date, hashtag], axis=1)\n",
    "weekly_data.columns = [\"Date\",\"Hashtag\"]\n",
    "print(weekly_data)"
   ]
  },
  {
   "cell_type": "code",
   "execution_count": 11,
   "id": "134954fc",
   "metadata": {},
   "outputs": [
    {
     "name": "stdout",
     "output_type": "stream",
     "text": [
      "2022-05-06     144\n",
      "2022-05-07     130\n",
      "2022-05-08     213\n",
      "2022-05-09     399\n",
      "2022-05-10     780\n",
      "2022-05-11    3207\n",
      "2022-05-12    2697\n",
      "2022-05-13    2169\n",
      "2022-05-14    1158\n",
      "2022-05-15      13\n",
      "Name: Date, dtype: int64\n"
     ]
    }
   ],
   "source": [
    "# count the number of tweets per date\n",
    "hashtag_count = weekly_data[\"Date\"].value_counts()\n",
    "hashtag_count = hashtag_count.sort_index().iloc[30:]\n",
    "print(hashtag_count)"
   ]
  },
  {
   "cell_type": "code",
   "execution_count": 12,
   "id": "8c4c34ab",
   "metadata": {},
   "outputs": [
    {
     "name": "stdout",
     "output_type": "stream",
     "text": [
      "  Hashtag        Date  #of Occurences\n",
      "0    #APE  2022-03-26               1\n",
      "1    #APE  2022-04-30               2\n",
      "2    #APE  2022-05-01               2\n",
      "3    #APE  2022-05-02               3\n",
      "4    #APE  2022-05-03               4\n",
      "5    #APE  2022-05-04               8\n",
      "6    #APE  2022-05-05               5\n",
      "7    #APE  2022-05-06              13\n",
      "8    #APE  2022-05-07              22\n",
      "9    #APE  2022-05-08              26\n"
     ]
    }
   ],
   "source": [
    "#Reformat the data to count the #of tweets per hashtag per date\n",
    "#Display only first 10 results\n",
    "hashtag_date = weekly_data.groupby(['Hashtag', 'Date']).size()\n",
    "hashtag_date = hashtag_date.reset_index()\n",
    "hashtag_date = hashtag_date.rename(columns={0: \"#of Occurences\"})\n",
    "print(hashtag_date.head(10))"
   ]
  },
  {
   "cell_type": "code",
   "execution_count": 13,
   "id": "6b02d7a5",
   "metadata": {},
   "outputs": [
    {
     "name": "stdout",
     "output_type": "stream",
     "text": [
      "Hashtag  Date      \n",
      "#APE     2022-03-26     1\n",
      "         2022-04-30     2\n",
      "         2022-05-01     2\n",
      "         2022-05-02     3\n",
      "         2022-05-03     4\n",
      "         2022-05-04     8\n",
      "         2022-05-05     5\n",
      "         2022-05-06    13\n",
      "         2022-05-07    22\n",
      "         2022-05-08    26\n",
      "Name: #of Occurences, dtype: int64\n"
     ]
    }
   ],
   "source": [
    "hashtag_date = hashtag_date.groupby([\"Hashtag\", \"Date\"]).mean()[\"#of Occurences\"]\n",
    "print(hashtag_date.head(10))"
   ]
  },
  {
   "cell_type": "code",
   "execution_count": 14,
   "id": "e46748e8",
   "metadata": {},
   "outputs": [
    {
     "name": "stdout",
     "output_type": "stream",
     "text": [
      "Hashtag      #APE  #AVAX   #BTC  #Bitcoin  #DOT  #EGLD   #ETH  #LINK  #LUNA  \\\n",
      "Date                                                                          \n",
      "2022-05-06   13.0   35.0    NaN       NaN  13.0   25.0    NaN   11.0    3.0   \n",
      "2022-05-07   22.0   18.0    NaN       NaN  10.0   25.0    NaN   10.0    NaN   \n",
      "2022-05-08   26.0   21.0    3.0       1.0  17.0   37.0    1.0   27.0    1.0   \n",
      "2022-05-09   38.0   40.0    9.0       7.0  17.0   64.0    3.0   28.0    5.0   \n",
      "2022-05-10   69.0   34.0   40.0      35.0  36.0   79.0   24.0   51.0   24.0   \n",
      "2022-05-11   98.0   90.0  216.0     514.0  81.0  141.0  291.0  108.0  461.0   \n",
      "2022-05-12   96.0   85.0  149.0     422.0  82.0  121.0  252.0   48.0  353.0   \n",
      "2022-05-13  119.0   77.0  114.0     337.0  75.0  122.0  225.0   60.0  257.0   \n",
      "2022-05-14   38.0   29.0   48.0     131.0  49.0   45.0  117.0   25.0  164.0   \n",
      "2022-05-15    NaN    NaN    NaN       NaN   NaN    NaN    NaN    NaN    NaN   \n",
      "\n",
      "Hashtag     #MATIC   #SOL   #UST   #XTZ  #crypto  \n",
      "Date                                              \n",
      "2022-05-06     8.0    6.0    2.0   28.0      NaN  \n",
      "2022-05-07    14.0   10.0    2.0   19.0      NaN  \n",
      "2022-05-08    21.0   26.0    4.0   28.0      NaN  \n",
      "2022-05-09    35.0   70.0   28.0   51.0      4.0  \n",
      "2022-05-10    51.0  158.0   92.0   75.0     12.0  \n",
      "2022-05-11   100.0  253.0  381.0  113.0    359.0  \n",
      "2022-05-12    74.0  263.0  224.0  123.0    405.0  \n",
      "2022-05-13    65.0  230.0  145.0   75.0    268.0  \n",
      "2022-05-14    43.0  120.0   65.0   34.0    250.0  \n",
      "2022-05-15     NaN    NaN    NaN    NaN     13.0  \n"
     ]
    }
   ],
   "source": [
    "#Display all tweets per hashtag on the refined period in a table\n",
    "hashtag_date = hashtag_date.unstack(level=0).iloc[30:]\n",
    "print(hashtag_date)"
   ]
  },
  {
   "cell_type": "code",
   "execution_count": 15,
   "id": "242ef45e",
   "metadata": {},
   "outputs": [
    {
     "data": {
      "image/png": "[encoded data removed]",
      "text/plain": [
       "<Figure size 432x288 with 2 Axes>"
      ]
     },
     "metadata": {
      "needs_background": "light"
     },
     "output_type": "display_data"
    }
   ],
   "source": [
    "import seaborn as sns\n",
    "#Plot a heatmap of the data to see the tweet intensity by date and hashtag\n",
    "sns.heatmap(hashtag_date, cmap=\"YlGnBu\")\n",
    "plt.show()"
   ]
  },
  {
   "cell_type": "markdown",
   "id": "fa0ed4ae",
   "metadata": {},
   "source": [
    "***\n",
    "\n",
    "This chart gives a first sense of the tweet intensity over the period. \n",
    "\n",
    "First it appears that there has been a lot happening between the 11th and the 12th in the crypto ecosystem.\n",
    "\n",
    "The following hashtags are the most used: #Bitcoin, #ETH, #LUNA, #SOL, #UST, #Crypto.\n",
    "\n",
    "This gives potential indication about the popularity of projects, but also of the news intensity related to the ecosystem and projects"
   ]
  },
  {
   "cell_type": "markdown",
   "id": "f001e9ca",
   "metadata": {},
   "source": [
    "***\n",
    "\n",
    "To refine the analysis and get an understanding of the **community engagement** behind each cryptocurrency from the set, we will divid the number of tweets by the average Market capitalization of each crypto over the period.\n",
    "\n",
    "\n",
    "Link to the Market Cap data: https://bit.ly/crypto-MC\n",
    "\n",
    "This data is from: https://coinmarketcap.com/"
   ]
  },
  {
   "cell_type": "code",
   "execution_count": 16,
   "id": "a6eba0c4",
   "metadata": {},
   "outputs": [
    {
     "name": "stdout",
     "output_type": "stream",
     "text": [
      "Hashtag          #APE     #AVAX      #BTC      #DOT      #EGLD      #ETH  \\\n",
      "Date                                                                       \n",
      "2022-05-06   4.421769  3.025065       NaN  1.087866  10.869565       NaN   \n",
      "2022-05-07   7.482993  1.555748       NaN  0.836820  10.869565       NaN   \n",
      "2022-05-08   8.843537  1.815039  0.004819  1.422594  16.086957  0.003508   \n",
      "2022-05-09  12.925170  3.457217  0.014458  1.422594  27.826087  0.010523   \n",
      "2022-05-10  23.469388  2.938634  0.064259  3.012552  34.347826  0.084181   \n",
      "2022-05-11  33.333333  7.778738  0.346999  6.778243  61.304348  1.020694   \n",
      "2022-05-12  32.653061  7.346586  0.239365  6.861925  52.608696  0.883900   \n",
      "2022-05-13  40.476190  6.655143  0.183138  6.276151  53.043478  0.789197   \n",
      "2022-05-14  12.925170  2.506482  0.077111  4.100418  19.565217  0.410382   \n",
      "2022-05-15        NaN       NaN       NaN       NaN        NaN       NaN   \n",
      "\n",
      "Hashtag         #LINK      #LUNA     #MATIC       #SOL       #UST       #XTZ  \n",
      "Date                                                                          \n",
      "2022-05-06   2.644231   0.234926   1.178203   0.270270   0.165426  14.507772  \n",
      "2022-05-07   2.403846        NaN   2.061856   0.450450   0.165426   9.844560  \n",
      "2022-05-08   6.490385   0.078309   3.092784   1.171171   0.330852  14.507772  \n",
      "2022-05-09   6.730769   0.391543   5.154639   3.153153   2.315964  26.424870  \n",
      "2022-05-10  12.259615   1.879405   7.511046   7.117117   7.609595  38.860104  \n",
      "2022-05-11  25.961538  36.100235  14.727541  11.396396  31.513648  58.549223  \n",
      "2022-05-12  11.538462  27.642913  10.898380  11.846847  18.527709  63.730570  \n",
      "2022-05-13  14.423077  20.125294   9.572901  10.360360  11.993383  38.860104  \n",
      "2022-05-14   6.009615  12.842600   6.332842   5.405405   5.376344  17.616580  \n",
      "2022-05-15        NaN        NaN        NaN        NaN        NaN        NaN  \n"
     ]
    }
   ],
   "source": [
    "#Let's divide the #of tweets by the related cryptocurrency market cap to normalize results\n",
    "#Market caps are expressed in Billion$\n",
    "#We get rid of generic hashtags namely Bitcoin and Crypto that would bias our analysis otherwise\n",
    "hashtag_date['#BTC'] = hashtag_date['#BTC'].div(622.48)\n",
    "hashtag_date['#ETH'] = hashtag_date['#ETH'].div(285.1)\n",
    "hashtag_date['#SOL'] = hashtag_date['#SOL'].div(22.2)\n",
    "hashtag_date['#LUNA'] = hashtag_date['#LUNA'].div(12.77)\n",
    "hashtag_date['#UST'] = hashtag_date['#UST'].div(12.09)\n",
    "hashtag_date['#DOT'] = hashtag_date['#DOT'].div(11.95)\n",
    "hashtag_date['#AVAX'] = hashtag_date['#AVAX'].div(11.57)\n",
    "hashtag_date['#MATIC'] = hashtag_date['#MATIC'].div(6.79)\n",
    "hashtag_date['#LINK'] = hashtag_date['#LINK'].div(4.16)\n",
    "hashtag_date['#APE'] = hashtag_date['#APE'].div(2.94)\n",
    "hashtag_date['#EGLD'] = hashtag_date['#EGLD'].div(2.3)\n",
    "hashtag_date['#XTZ'] = hashtag_date['#XTZ'].div(1.93)\n",
    "hashtag_date = hashtag_date.drop(['#crypto'], axis = 1)\n",
    "hashtag_date = hashtag_date.drop(['#Bitcoin'], axis = 1)\n",
    "print(hashtag_date)"
   ]
  },
  {
   "cell_type": "code",
   "execution_count": 17,
   "id": "9b9b3543",
   "metadata": {},
   "outputs": [
    {
     "data": {
      "image/png": "[encoded data removed]",
      "text/plain": [
       "<Figure size 432x288 with 2 Axes>"
      ]
     },
     "metadata": {
      "needs_background": "light"
     },
     "output_type": "display_data"
    }
   ],
   "source": [
    "#Plot a heatmap of the Crypto community engagement\n",
    "sns.heatmap(hashtag_date, cmap=\"YlGnBu\")\n",
    "plt.show()"
   ]
  },
  {
   "cell_type": "markdown",
   "id": "0a45ffba",
   "metadata": {},
   "source": [
    "***\n",
    "\n",
    "Results are very interesting as they highlight a very strong community behind notably **#EGLD (Elrond)** and **#XTZ (Tezos)** over the period.\n",
    "\n",
    "This is relevant to have such insights because as cryptocurrencies are still at a very early stage of their development, the community supporting a project is crucial and can drive returns.\n",
    "\n",
    "Indeed, this analysis over a longer period could be insightful. It would enable us to see how the interest about a crypto evolves and if fades over time or reinforce.\n",
    "\n",
    "\n",
    "**Limitation**: This analysis is slighlty biased, as the market cap of top crypto assets such as #BTC (Bitcoin) or #ETH (Ethereum) is too large compared to the #of tweets. The analysis is therefore more relevant for projects with market caps ranging from **1 to 15 Billion dollars**"
   ]
  },
  {
   "cell_type": "code",
   "execution_count": 18,
   "id": "75a8e83c",
   "metadata": {},
   "outputs": [
    {
     "data": {
      "text/plain": [
       "<AxesSubplot:xlabel='Date'>"
      ]
     },
     "execution_count": 18,
     "metadata": {},
     "output_type": "execute_result"
    },
    {
     "data": {
      "image/png": "[encoded data removed]",
      "text/plain": [
       "<Figure size 1080x360 with 1 Axes>"
      ]
     },
     "metadata": {
      "needs_background": "light"
     },
     "output_type": "display_data"
    }
   ],
   "source": [
    "#Let's see if there is a common momentum in terms of tweets over the period\n",
    "hashtag_date.plot(figsize=(15,5))"
   ]
  },
  {
   "cell_type": "markdown",
   "id": "5fd95da3",
   "metadata": {},
   "source": [
    "***\n",
    "\n",
    "The chart enhances the trend previously observed. There is an overall increase in tweets intensity between 22/05/10 and 22/05/13.\n",
    "All crypto-currencies are likely to react to market events either up or down.\n",
    "\n",
    "Let's see how we can apply it to an investment strategy based on basic signal"
   ]
  },
  {
   "cell_type": "code",
   "execution_count": 19,
   "id": "9a4e57eb",
   "metadata": {},
   "outputs": [
    {
     "name": "stdout",
     "output_type": "stream",
     "text": [
      "Hashtag          #APE     #AVAX      #BTC      #DOT      #EGLD      #ETH  \\\n",
      "Date                                                                       \n",
      "2022-05-06        NaN       NaN       NaN       NaN        NaN       NaN   \n",
      "2022-05-07   3.061224 -1.469317       NaN -0.251046   0.000000       NaN   \n",
      "2022-05-08   1.360544  0.259291       NaN  0.585774   5.217391       NaN   \n",
      "2022-05-09   4.081633  1.642178  0.009639  0.000000  11.739130  0.007015   \n",
      "2022-05-10  10.544218 -0.518583  0.049801  1.589958   6.521739  0.073658   \n",
      "2022-05-11   9.863946  4.840104  0.282740  3.765690  26.956522  0.936514   \n",
      "2022-05-12  -0.680272 -0.432152 -0.107634  0.083682  -8.695652 -0.136794   \n",
      "2022-05-13   7.823129 -0.691443 -0.056227 -0.585774   0.434783 -0.094704   \n",
      "2022-05-14 -27.551020 -4.148660 -0.106028 -2.175732 -33.478261 -0.378814   \n",
      "2022-05-15        NaN       NaN       NaN       NaN        NaN       NaN   \n",
      "\n",
      "Hashtag         #LINK      #LUNA    #MATIC      #SOL       #UST       #XTZ  \n",
      "Date                                                                        \n",
      "2022-05-06        NaN        NaN       NaN       NaN        NaN        NaN  \n",
      "2022-05-07  -0.240385        NaN  0.883652  0.180180   0.000000  -4.663212  \n",
      "2022-05-08   4.086538        NaN  1.030928  0.720721   0.165426   4.663212  \n",
      "2022-05-09   0.240385   0.313234  2.061856  1.981982   1.985112  11.917098  \n",
      "2022-05-10   5.528846   1.487862  2.356406  3.963964   5.293631  12.435233  \n",
      "2022-05-11  13.701923  34.220830  7.216495  4.279279  23.904053  19.689119  \n",
      "2022-05-12 -14.423077  -8.457322 -3.829161  0.450450 -12.985939   5.181347  \n",
      "2022-05-13   2.884615  -7.517619 -1.325479 -1.486486  -6.534326 -24.870466  \n",
      "2022-05-14  -8.413462  -7.282694 -3.240059 -4.954955  -6.617039 -21.243523  \n",
      "2022-05-15        NaN        NaN       NaN       NaN        NaN        NaN  \n"
     ]
    }
   ],
   "source": [
    "#We do the difference of tweets intensity day after day\n",
    "hashtag_diff = hashtag_date.diff(periods=1,axis=0)\n",
    "print(hashtag_diff)"
   ]
  },
  {
   "cell_type": "code",
   "execution_count": 20,
   "id": "c917f03c",
   "metadata": {},
   "outputs": [
    {
     "name": "stdout",
     "output_type": "stream",
     "text": [
      "Hashtag     #APE  #AVAX  #BTC  #DOT  #EGLD  #ETH  #LINK  #LUNA  #MATIC  #SOL  \\\n",
      "Date                                                                           \n",
      "2022-05-06   0.0    0.0   0.0   0.0    0.0   0.0    0.0    0.0     0.0   0.0   \n",
      "2022-05-07   3.0   -1.0   0.0  -0.0    0.0   0.0   -0.0    0.0     1.0   0.0   \n",
      "2022-05-08   1.0    0.0   0.0   1.0    5.0   0.0    4.0    0.0     1.0   1.0   \n",
      "2022-05-09   4.0    2.0   0.0   0.0   12.0   0.0    0.0    0.0     2.0   2.0   \n",
      "2022-05-10  11.0   -1.0   0.0   2.0    7.0   0.0    6.0    1.0     2.0   4.0   \n",
      "2022-05-11  10.0    5.0   0.0   4.0   27.0   1.0   14.0   34.0     7.0   4.0   \n",
      "2022-05-12  -1.0   -0.0  -0.0   0.0   -9.0  -0.0  -14.0   -8.0    -4.0   0.0   \n",
      "2022-05-13   8.0   -1.0  -0.0  -1.0    0.0  -0.0    3.0   -8.0    -1.0  -1.0   \n",
      "2022-05-14 -28.0   -4.0  -0.0  -2.0  -33.0  -0.0   -8.0   -7.0    -3.0  -5.0   \n",
      "2022-05-15   0.0    0.0   0.0   0.0    0.0   0.0    0.0    0.0     0.0   0.0   \n",
      "\n",
      "Hashtag     #UST  #XTZ  \n",
      "Date                    \n",
      "2022-05-06   0.0   0.0  \n",
      "2022-05-07   0.0  -5.0  \n",
      "2022-05-08   0.0   5.0  \n",
      "2022-05-09   2.0  12.0  \n",
      "2022-05-10   5.0  12.0  \n",
      "2022-05-11  24.0  20.0  \n",
      "2022-05-12 -13.0   5.0  \n",
      "2022-05-13  -7.0 -25.0  \n",
      "2022-05-14  -7.0 -21.0  \n",
      "2022-05-15   0.0   0.0  \n"
     ]
    }
   ],
   "source": [
    "#We normalize the data to replace NaN values to 0 and round it\n",
    "watchlist = hashtag_diff.fillna(0)\n",
    "watchlist = watchlist.apply(pd.to_numeric)\n",
    "print(round(watchlist))"
   ]
  },
  {
   "cell_type": "markdown",
   "id": "7b0281d5",
   "metadata": {},
   "source": [
    "***\n",
    "Based on this output we can create a four scale signal that will enable to take trading decisions and benefit from potential arbitrage decisions between cryptocurrencies scoring very high in tweets intensity evolution and those scoring neutral.\n",
    "\n",
    "**The rationale behind this basic but efficient strategy** *(supposing having enough capital to perform many trades)* **is that crypto assets with high scores will experience larger swings in their prices (either up or down) while crypto assets scoring low scores will not have such significant changes in their prices.**\n",
    "\n",
    "\n",
    "Therefore, it leaves potential **arbitrage opportunities** between cryptocurrencies.\n",
    "\n",
    "The scale would be the following: \n",
    "- If score >= 3 == **'Very High'**\n",
    "- If score >= 2 and <3 == **'High'**\n",
    "- If score >= 1 and <2 == **'Moderate'**\n",
    "- If score <1 == **'Neutral'**"
   ]
  },
  {
   "cell_type": "code",
   "execution_count": 21,
   "id": "506c1149",
   "metadata": {},
   "outputs": [
    {
     "name": "stdout",
     "output_type": "stream",
     "text": [
      "Date\n",
      "2022-05-06      Neutral\n",
      "2022-05-07    Very High\n",
      "2022-05-08     Moderate\n",
      "2022-05-09    Very High\n",
      "2022-05-10    Very High\n",
      "2022-05-11    Very High\n",
      "2022-05-12      Neutral\n",
      "2022-05-13    Very High\n",
      "2022-05-14      Neutral\n",
      "2022-05-15      Neutral\n",
      "Name: #APE, dtype: object\n"
     ]
    }
   ],
   "source": [
    "watchlist_index = watchlist['#APE'].apply(lambda x: 'Very High' if x>=3 else 'High' if x>=2 and x<3 else 'Moderate' if x>=1 and x<2 else 'Neutral')\n",
    "print(watchlist_index)"
   ]
  },
  {
   "cell_type": "markdown",
   "id": "cca1cbc2",
   "metadata": {},
   "source": [
    "---\n"
   ]
  },
  {
   "cell_type": "markdown",
   "id": "ed153657",
   "metadata": {},
   "source": [
    "\n",
    "*Cheers, Lucas*"
   ]
  },
  {
   "cell_type": "code",
   "execution_count": null,
   "id": "c4a67c9e",
   "metadata": {},
   "outputs": [],
   "source": []
  }
 ],
 "metadata": {
  "kernelspec": {
   "display_name": "Python 3",
   "language": "python",
   "name": "python3"
  },
  "language_info": {
   "codemirror_mode": {
    "name": "ipython",
    "version": 3
   },
   "file_extension": ".py",
   "mimetype": "text/x-python",
   "name": "python",
   "nbconvert_exporter": "python",
   "pygments_lexer": "ipython3",
   "version": "3.8.8"
  }
 },
 "nbformat": 4,
 "nbformat_minor": 5
}
